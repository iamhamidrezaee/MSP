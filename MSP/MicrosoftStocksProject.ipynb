{
 "cells": [
  {
   "attachments": {},
   "cell_type": "markdown",
   "metadata": {},
   "source": [
    "## **Microsoft Stocks Project**\n",
    "\n",
    "**The purpose** of this model is to find patterns in Microsoft's stock price having the past stocks data.\n",
    "\n",
    "**The goal** of this model is to predict the Microsoft's stock price based on the data at hand.\n",
    "\n",
    "*This model's components are labeled with the respective **PACE stage: Plan, Analyze, Construct, Execute**.*"
   ]
  },
  {
   "cell_type": "markdown",
   "metadata": {},
   "source": [
    "## **PACE: Plan**\n",
    "\n",
    "1. What are we going to accomplish with this model?\n",
    "\n",
    "    >*Predict the price of microsoft stocks as accurately as possible.*\n",
    "\n",
    "2. Is the data reliable? \n",
    "\n",
    "    >*The dataset has Microsoft's stock data from the year 1986 to 2023, which gives us a sufficient amount of data to build the model. In addition, the data has all the factors necessary to predict the stock price, which makes the data reliable for our model.*\n",
    "\n",
    "3. What resources will we use as you complete this stage?\n",
    "\n",
    "    >*In the Plan stage, the main resources that we use are the dataset and the imported packages (described below) for building the model and data inspection.*\n",
    "\n",
    "4. Does this model have ethical implications?\n",
    "\n",
    "    >*If this model makes inaccurate predictions about the stock prices, it will have a negative financial impact on the clients who want to have an accurate prediction of the stock price. In that case, the inaccuracy should be immedietely evaluated. "
   ]
  },
  {
   "cell_type": "markdown",
   "metadata": {},
   "source": [
    "## Task 1. Imports and data loading\n",
    "\n",
    "At first, we import packages and libraries needed to build the XGBoost model and evaluate its performance."
   ]
  },
  {
   "cell_type": "code",
   "execution_count": 30,
   "metadata": {},
   "outputs": [],
   "source": [
    "# Import packages for data manipulation\n",
    "import numpy as np\n",
    "import pandas as pd\n",
    "\n",
    "# Import XGBoost Regressor model package\n",
    "from xgboost import XGBRegressor\n",
    "\n",
    "# Import packages for data visualization \n",
    "import matplotlib.pyplot as plt\n",
    "\n",
    "# Import packages for data modeling\n",
    "from sklearn.model_selection import GridSearchCV, train_test_split\n",
    "\n",
    "# Import packages for metrics\n",
    "from sklearn.metrics import mean_absolute_error\n",
    "from sklearn.metrics import mean_squared_error\n",
    "from sklearn.metrics import r2_score\n",
    "\n",
    "# Import packages to handle missing data\n",
    "from sklearn.experimental import enable_iterative_imputer\n",
    "from sklearn.impute import IterativeImputer\n",
    "\n",
    "# This lets us see all the columns, preventing Jupyter from redacting them.\n",
    "pd.set_option('display.max_columns', None)"
   ]
  },
  {
   "cell_type": "markdown",
   "metadata": {},
   "source": [
    "Now we read in the dataset as `df0` and inspect the first five rows."
   ]
  },
  {
   "cell_type": "code",
   "execution_count": 31,
   "metadata": {},
   "outputs": [
    {
     "data": {
      "text/html": [
       "<div>\n",
       "<style scoped>\n",
       "    .dataframe tbody tr th:only-of-type {\n",
       "        vertical-align: middle;\n",
       "    }\n",
       "\n",
       "    .dataframe tbody tr th {\n",
       "        vertical-align: top;\n",
       "    }\n",
       "\n",
       "    .dataframe thead th {\n",
       "        text-align: right;\n",
       "    }\n",
       "</style>\n",
       "<table border=\"1\" class=\"dataframe\">\n",
       "  <thead>\n",
       "    <tr style=\"text-align: right;\">\n",
       "      <th></th>\n",
       "      <th>Date</th>\n",
       "      <th>Price</th>\n",
       "      <th>Open</th>\n",
       "      <th>High</th>\n",
       "      <th>Low</th>\n",
       "      <th>Volume</th>\n",
       "    </tr>\n",
       "  </thead>\n",
       "  <tbody>\n",
       "    <tr>\n",
       "      <th>0</th>\n",
       "      <td>05/15/2023</td>\n",
       "      <td>309.46</td>\n",
       "      <td>309.10</td>\n",
       "      <td>309.90</td>\n",
       "      <td>307.59</td>\n",
       "      <td>16290000</td>\n",
       "    </tr>\n",
       "    <tr>\n",
       "      <th>1</th>\n",
       "      <td>05/12/2023</td>\n",
       "      <td>308.97</td>\n",
       "      <td>310.55</td>\n",
       "      <td>310.65</td>\n",
       "      <td>306.60</td>\n",
       "      <td>19770000</td>\n",
       "    </tr>\n",
       "    <tr>\n",
       "      <th>2</th>\n",
       "      <td>05/11/2023</td>\n",
       "      <td>310.11</td>\n",
       "      <td>310.10</td>\n",
       "      <td>311.12</td>\n",
       "      <td>306.26</td>\n",
       "      <td>31680000</td>\n",
       "    </tr>\n",
       "    <tr>\n",
       "      <th>3</th>\n",
       "      <td>05/10/2023</td>\n",
       "      <td>312.31</td>\n",
       "      <td>308.62</td>\n",
       "      <td>313.00</td>\n",
       "      <td>307.67</td>\n",
       "      <td>30080000</td>\n",
       "    </tr>\n",
       "    <tr>\n",
       "      <th>4</th>\n",
       "      <td>05/09/2023</td>\n",
       "      <td>307.00</td>\n",
       "      <td>308.00</td>\n",
       "      <td>310.04</td>\n",
       "      <td>306.31</td>\n",
       "      <td>21340000</td>\n",
       "    </tr>\n",
       "  </tbody>\n",
       "</table>\n",
       "</div>"
      ],
      "text/plain": [
       "         Date   Price    Open    High     Low    Volume\n",
       "0  05/15/2023  309.46  309.10  309.90  307.59  16290000\n",
       "1  05/12/2023  308.97  310.55  310.65  306.60  19770000\n",
       "2  05/11/2023  310.11  310.10  311.12  306.26  31680000\n",
       "3  05/10/2023  312.31  308.62  313.00  307.67  30080000\n",
       "4  05/09/2023  307.00  308.00  310.04  306.31  21340000"
      ]
     },
     "execution_count": 31,
     "metadata": {},
     "output_type": "execute_result"
    }
   ],
   "source": [
    "# Import dataset\n",
    "df0 = pd.read_csv('MicrosoftStocks.csv')\n",
    "\n",
    "# Inspect the first five rows\n",
    "df0.head()"
   ]
  },
  {
   "cell_type": "markdown",
   "metadata": {},
   "source": [
    "## **PACE: Analyze**\n",
    "\n",
    "1. Does the plan need revising?\n",
    "\n",
    "> *Our resources are sufficient for building the model and the based on our choices of the model and other components such as the metrics, tools for handling data, and visualizing data, and engineering the data, the plan goes well and does not need significant fundamental revision.*\n",
    "\n",
    "2. Does the data break the assumptions of the model? Is that ok, or unacceptable?\n",
    "\n",
    "> *For predicting the stock price, the data we need is the components necessary for stock price prediction, and our dataset has it which includes the stocks end price, low and high, volume and the date. The data does not break the assumptions of the model.*"
   ]
  },
  {
   "cell_type": "markdown",
   "metadata": {},
   "source": [
    "## Task 2. Feature Engineering\n",
    "\n",
    "At this stage, we are going to engineer features and, from the existing features, new features to use in the modeling and improvement of the model performance and prediction accuracy."
   ]
  },
  {
   "cell_type": "markdown",
   "metadata": {},
   "source": [
    "Let's create a copy of `df0` to preserve the original datafram and call the copy `df`."
   ]
  },
  {
   "cell_type": "code",
   "execution_count": 32,
   "metadata": {},
   "outputs": [],
   "source": [
    "# Copy the dataframe\n",
    "df = df0.copy()"
   ]
  },
  {
   "cell_type": "markdown",
   "metadata": {},
   "source": [
    "Calling `info()` on the new dataframe so the columns in the datafram can be easily referenced."
   ]
  },
  {
   "cell_type": "code",
   "execution_count": 33,
   "metadata": {},
   "outputs": [
    {
     "data": {
      "text/plain": [
       "<bound method DataFrame.info of             Date   Price    Open    High     Low     Volume\n",
       "0     05/15/2023  309.46  309.10  309.90  307.59   16290000\n",
       "1     05/12/2023  308.97  310.55  310.65  306.60   19770000\n",
       "2     05/11/2023  310.11  310.10  311.12  306.26   31680000\n",
       "3     05/10/2023  312.31  308.62  313.00  307.67   30080000\n",
       "4     05/09/2023  307.00  308.00  310.04  306.31   21340000\n",
       "...          ...     ...     ...     ...     ...        ...\n",
       "9364  03/20/1986    0.10    0.10    0.10    0.09   58440000\n",
       "9365  03/19/1986    0.10    0.10    0.10    0.10   47890000\n",
       "9366  03/18/1986    0.10    0.10    0.10    0.10   66470000\n",
       "9367  03/17/1986    0.10    0.10    0.10    0.10  133169999\n",
       "9368  03/14/1986    0.10    0.10    0.10    0.10  308160000\n",
       "\n",
       "[9369 rows x 6 columns]>"
      ]
     },
     "execution_count": 33,
     "metadata": {},
     "output_type": "execute_result"
    }
   ],
   "source": [
    "# Show the info about our dataframe\n",
    "df.info"
   ]
  },
  {
   "cell_type": "markdown",
   "metadata": {},
   "source": [
    "#### `Date Modification`\n",
    "\n",
    "The date column in our original dataframe has the date in object format. We need to modify it by calling the `to_datetime()` on our `Date` column to convert it into Pandas date format."
   ]
  },
  {
   "cell_type": "code",
   "execution_count": 34,
   "metadata": {},
   "outputs": [],
   "source": [
    "# Modify the 'Date' in the dataframe\n",
    "df['Date'] = pd.to_datetime(df['Date'])"
   ]
  },
  {
   "cell_type": "markdown",
   "metadata": {},
   "source": [
    "Now, we extract the `year`, `month`, `dayofweek`, and `quarter` from the `Date` as it will help us in finding the seasonal patterns in the data. "
   ]
  },
  {
   "cell_type": "code",
   "execution_count": 35,
   "metadata": {},
   "outputs": [],
   "source": [
    "# Create a new column for year\n",
    "df['year'] = df['Date'].dt.year\n",
    "\n",
    "# Create a new column for month\n",
    "df['month'] = df['Date'].dt.month\n",
    "\n",
    "# Create a new column for day of week\n",
    "df['day'] = df['Date'].dt.dayofweek\n",
    "\n",
    "# Create a new column for the quarter\n",
    "df['quarter'] = df['Date'].dt.quarter"
   ]
  },
  {
   "cell_type": "markdown",
   "metadata": {},
   "source": [
    "#### `daily_range`\n",
    "\n",
    "Creating a new feature called `daily_range` that represents the difference between the highest and the lowest trading prices of stock in a day. \n",
    "\n",
    "*Note: In substracting the values of the two columns `High` and `Low`,  Pandas use vectorization in calculating the values for the `daily_range`, utilizing parallel hardware of the GPU.*"
   ]
  },
  {
   "cell_type": "code",
   "execution_count": 36,
   "metadata": {},
   "outputs": [],
   "source": [
    "# Create a new feature 'daily_range' (high - low)\n",
    "df['daily_range'] = df['High'] - df['Low']"
   ]
  },
  {
   "cell_type": "markdown",
   "metadata": {},
   "source": [
    "#### `volume_change`\n",
    "\n",
    "Creating a feature called `volume_change` that represents the percentage change in the volume. It is a measure of how much the volume changed from one day to the next."
   ]
  },
  {
   "cell_type": "code",
   "execution_count": 37,
   "metadata": {},
   "outputs": [],
   "source": [
    "# Create a new feature `volume_change`\n",
    "df['volume_change'] = df['Volume'].pct_change()"
   ]
  },
  {
   "cell_type": "markdown",
   "metadata": {},
   "source": [
    "#### `price_increase`\n",
    "\n",
    "Creating a new binary feature called `price_increase` that represents whether or not the price increased since the day before. "
   ]
  },
  {
   "cell_type": "code",
   "execution_count": 38,
   "metadata": {},
   "outputs": [],
   "source": [
    "# Create a new feature `price_increase`\n",
    "df['price_increase'] = (df['Price'] > df['Price'].shift(1)).astype(int)"
   ]
  },
  {
   "cell_type": "markdown",
   "metadata": {},
   "source": [
    "#### `Calculating the MACD`\n",
    "\n",
    "MACD (Moving Average Convergence Divergence) is an indicator in stock markte analysis to identify trends and momentum in a stock's price. \n",
    "\n",
    "It provides us with:\n",
    "\n",
    "* The Exponential Moving Average (EMA) in short-term `shortEMA`\n",
    "\n",
    "* The Exponential Moving Average (EMA) in long-term `longEMA`\n",
    "\n",
    "* The `MACD` value that helps us identify the convergence or divergence of the short and long-term trends."
   ]
  },
  {
   "cell_type": "code",
   "execution_count": 39,
   "metadata": {},
   "outputs": [],
   "source": [
    "def calculate_macd(df, short_window=12, long_window=26, signal_window=9):\n",
    "    \"\"\"\n",
    "    Calculate the Moving Average Convergence Divergence (MACD) indicator for a given DataFrame.\n",
    "\n",
    "    Parameters:\n",
    "        df (DataFrame): DataFrame containing the stock price data. It should have a 'Date' column and a 'Price' column.\n",
    "        short_window (int): Number of days for the short-term moving average (default is 12).\n",
    "        long_window (int): Number of days for the long-term moving average (default is 26).\n",
    "        signal_window (int): Number of days for the signal line moving average (default is 9).\n",
    "\n",
    "    Returns:\n",
    "        DataFrame: A new DataFrame containing the MACD, signal line, and MACD histogram.\n",
    "    \"\"\"\n",
    "    df['shortEMA'] = df['Price'].ewm(span=short_window, adjust=False).mean()\n",
    "\n",
    "    df['longEMA'] = df['Price'].ewm(span=long_window, adjust=False).mean()\n",
    "\n",
    "    df['MACD'] = df['shortEMA'] - df['longEMA']\n",
    "\n",
    "    df['signalLine'] = df['MACD'].ewm(span=signal_window, adjust=False).mean()\n",
    "\n",
    "    df['MACD_histogram'] = df['MACD'] - df['signalLine']\n",
    "\n",
    "    return df"
   ]
  },
  {
   "cell_type": "markdown",
   "metadata": {},
   "source": [
    "Now, we concatenate the dataframe we returned from `calculate_macd` function with the copy of our original dataframe `df`."
   ]
  },
  {
   "cell_type": "code",
   "execution_count": 40,
   "metadata": {},
   "outputs": [
    {
     "data": {
      "text/html": [
       "<div>\n",
       "<style scoped>\n",
       "    .dataframe tbody tr th:only-of-type {\n",
       "        vertical-align: middle;\n",
       "    }\n",
       "\n",
       "    .dataframe tbody tr th {\n",
       "        vertical-align: top;\n",
       "    }\n",
       "\n",
       "    .dataframe thead th {\n",
       "        text-align: right;\n",
       "    }\n",
       "</style>\n",
       "<table border=\"1\" class=\"dataframe\">\n",
       "  <thead>\n",
       "    <tr style=\"text-align: right;\">\n",
       "      <th></th>\n",
       "      <th>Date</th>\n",
       "      <th>Price</th>\n",
       "      <th>Open</th>\n",
       "      <th>High</th>\n",
       "      <th>Low</th>\n",
       "      <th>Volume</th>\n",
       "      <th>year</th>\n",
       "      <th>month</th>\n",
       "      <th>day</th>\n",
       "      <th>quarter</th>\n",
       "      <th>daily_range</th>\n",
       "      <th>volume_change</th>\n",
       "      <th>price_increase</th>\n",
       "      <th>shortEMA</th>\n",
       "      <th>longEMA</th>\n",
       "      <th>MACD</th>\n",
       "      <th>signalLine</th>\n",
       "      <th>MACD_histogram</th>\n",
       "    </tr>\n",
       "  </thead>\n",
       "  <tbody>\n",
       "    <tr>\n",
       "      <th>0</th>\n",
       "      <td>2023-05-15</td>\n",
       "      <td>309.46</td>\n",
       "      <td>309.10</td>\n",
       "      <td>309.90</td>\n",
       "      <td>307.59</td>\n",
       "      <td>16290000</td>\n",
       "      <td>2023</td>\n",
       "      <td>5</td>\n",
       "      <td>0</td>\n",
       "      <td>2</td>\n",
       "      <td>2.31</td>\n",
       "      <td>NaN</td>\n",
       "      <td>0</td>\n",
       "      <td>309.460000</td>\n",
       "      <td>309.460000</td>\n",
       "      <td>0.000000</td>\n",
       "      <td>0.000000</td>\n",
       "      <td>0.000000</td>\n",
       "    </tr>\n",
       "    <tr>\n",
       "      <th>1</th>\n",
       "      <td>2023-05-12</td>\n",
       "      <td>308.97</td>\n",
       "      <td>310.55</td>\n",
       "      <td>310.65</td>\n",
       "      <td>306.60</td>\n",
       "      <td>19770000</td>\n",
       "      <td>2023</td>\n",
       "      <td>5</td>\n",
       "      <td>4</td>\n",
       "      <td>2</td>\n",
       "      <td>4.05</td>\n",
       "      <td>0.213628</td>\n",
       "      <td>0</td>\n",
       "      <td>309.384615</td>\n",
       "      <td>309.423704</td>\n",
       "      <td>-0.039088</td>\n",
       "      <td>-0.007818</td>\n",
       "      <td>-0.031271</td>\n",
       "    </tr>\n",
       "    <tr>\n",
       "      <th>2</th>\n",
       "      <td>2023-05-11</td>\n",
       "      <td>310.11</td>\n",
       "      <td>310.10</td>\n",
       "      <td>311.12</td>\n",
       "      <td>306.26</td>\n",
       "      <td>31680000</td>\n",
       "      <td>2023</td>\n",
       "      <td>5</td>\n",
       "      <td>3</td>\n",
       "      <td>2</td>\n",
       "      <td>4.86</td>\n",
       "      <td>0.602428</td>\n",
       "      <td>1</td>\n",
       "      <td>309.496213</td>\n",
       "      <td>309.474540</td>\n",
       "      <td>0.021673</td>\n",
       "      <td>-0.001920</td>\n",
       "      <td>0.023592</td>\n",
       "    </tr>\n",
       "    <tr>\n",
       "      <th>3</th>\n",
       "      <td>2023-05-10</td>\n",
       "      <td>312.31</td>\n",
       "      <td>308.62</td>\n",
       "      <td>313.00</td>\n",
       "      <td>307.67</td>\n",
       "      <td>30080000</td>\n",
       "      <td>2023</td>\n",
       "      <td>5</td>\n",
       "      <td>2</td>\n",
       "      <td>2</td>\n",
       "      <td>5.33</td>\n",
       "      <td>-0.050505</td>\n",
       "      <td>1</td>\n",
       "      <td>309.929103</td>\n",
       "      <td>309.684575</td>\n",
       "      <td>0.244529</td>\n",
       "      <td>0.047370</td>\n",
       "      <td>0.197159</td>\n",
       "    </tr>\n",
       "    <tr>\n",
       "      <th>4</th>\n",
       "      <td>2023-05-09</td>\n",
       "      <td>307.00</td>\n",
       "      <td>308.00</td>\n",
       "      <td>310.04</td>\n",
       "      <td>306.31</td>\n",
       "      <td>21340000</td>\n",
       "      <td>2023</td>\n",
       "      <td>5</td>\n",
       "      <td>1</td>\n",
       "      <td>2</td>\n",
       "      <td>3.73</td>\n",
       "      <td>-0.290559</td>\n",
       "      <td>0</td>\n",
       "      <td>309.478472</td>\n",
       "      <td>309.485717</td>\n",
       "      <td>-0.007245</td>\n",
       "      <td>0.036447</td>\n",
       "      <td>-0.043692</td>\n",
       "    </tr>\n",
       "  </tbody>\n",
       "</table>\n",
       "</div>"
      ],
      "text/plain": [
       "        Date   Price    Open    High     Low    Volume  year  month  day  \\\n",
       "0 2023-05-15  309.46  309.10  309.90  307.59  16290000  2023      5    0   \n",
       "1 2023-05-12  308.97  310.55  310.65  306.60  19770000  2023      5    4   \n",
       "2 2023-05-11  310.11  310.10  311.12  306.26  31680000  2023      5    3   \n",
       "3 2023-05-10  312.31  308.62  313.00  307.67  30080000  2023      5    2   \n",
       "4 2023-05-09  307.00  308.00  310.04  306.31  21340000  2023      5    1   \n",
       "\n",
       "   quarter  daily_range  volume_change  price_increase    shortEMA  \\\n",
       "0        2         2.31            NaN               0  309.460000   \n",
       "1        2         4.05       0.213628               0  309.384615   \n",
       "2        2         4.86       0.602428               1  309.496213   \n",
       "3        2         5.33      -0.050505               1  309.929103   \n",
       "4        2         3.73      -0.290559               0  309.478472   \n",
       "\n",
       "      longEMA      MACD  signalLine  MACD_histogram  \n",
       "0  309.460000  0.000000    0.000000        0.000000  \n",
       "1  309.423704 -0.039088   -0.007818       -0.031271  \n",
       "2  309.474540  0.021673   -0.001920        0.023592  \n",
       "3  309.684575  0.244529    0.047370        0.197159  \n",
       "4  309.485717 -0.007245    0.036447       -0.043692  "
      ]
     },
     "execution_count": 40,
     "metadata": {},
     "output_type": "execute_result"
    }
   ],
   "source": [
    "# Concatenate the dataframes\n",
    "df = pd.concat([df, calculate_macd(df)], axis=0)\n",
    "df.head()"
   ]
  },
  {
   "cell_type": "markdown",
   "metadata": {},
   "source": [
    "## Task 3. Handling Missing values\n",
    "\n",
    "In the above dataset, we can see that the new features are successfully added, though we have `NaN` or missing values. We use the method `isnull()` and `sum()` to check for missing values."
   ]
  },
  {
   "cell_type": "code",
   "execution_count": 41,
   "metadata": {},
   "outputs": [
    {
     "name": "stdout",
     "output_type": "stream",
     "text": [
      "Total NaN values: 2\n"
     ]
    }
   ],
   "source": [
    "# Count the numebr of NaN values in the dataset\n",
    "nan_count = df.isnull().sum().sum()\n",
    "\n",
    "# Print the number of NaN values. \n",
    "print(\"Total NaN values:\", nan_count)"
   ]
  },
  {
   "cell_type": "markdown",
   "metadata": {},
   "source": [
    "We have 8 `NaN` values in our dataset, and missing values adversly affect the model's performance. That is why we are going to handle missing values using scikit-learn's imputer `IterativeImputer()`.\n",
    "\n",
    "An imputer treats missing values as it's target variable, uses a linear regression model to predict the missing value based on the other features, and updates the missing value with the predicted value. \n",
    "\n",
    "*Note: XGBoost model can handle the missing values itself, but it is a crucial step in developing the model to ensure the missing values are handled properly to avoid any negative impact on the model performance. Although iterative imputation is a computationally intensive method, it provides better imputation accuracy, and since it alligns with the ethical consideration of our model -- avoiding negative financial impact to the clients -- we will utilize that.*"
   ]
  },
  {
   "cell_type": "code",
   "execution_count": 42,
   "metadata": {},
   "outputs": [],
   "source": [
    "# Put the columns with missing values into a list\n",
    "columns_with_missing_values = df.columns[df.isnull().any()].tolist()\n",
    "\n",
    "# Initialize the imputer\n",
    "imputer = IterativeImputer(max_iter=10, random_state=42)\n",
    "\n",
    "# Fit the columns into the imputer\n",
    "imputer.fit(df[columns_with_missing_values])\n",
    "\n",
    "# Impute missing values in specific columns\n",
    "imputed_data = imputer.fit_transform(df[columns_with_missing_values])\n",
    "\n",
    "# Update the datafram with the imputed values\n",
    "df[columns_with_missing_values] = imputed_data"
   ]
  },
  {
   "cell_type": "markdown",
   "metadata": {},
   "source": [
    "Now that we handled the missing values, we should check and make sure there are no more missing values in our dataset."
   ]
  },
  {
   "cell_type": "code",
   "execution_count": 43,
   "metadata": {},
   "outputs": [
    {
     "name": "stdout",
     "output_type": "stream",
     "text": [
      "Total NaN values: 0\n"
     ]
    }
   ],
   "source": [
    "# Count the numebr of NaN values in the dataset\n",
    "nan_count = df.isnull().sum().sum()\n",
    "\n",
    "# Print the number of NaN values. \n",
    "print(\"Total NaN values:\", nan_count)"
   ]
  },
  {
   "cell_type": "markdown",
   "metadata": {},
   "source": [
    "## **PACE: Construct**\n",
    "\n",
    "1. Do we notice anything odd? Is it a problem? Can it be fixed? If so, how?\n",
    "\n",
    "> *At this stage, there has not been anything odd or problematic. The only thing that **could've** resulted in something problematic was the missing data that we handled it, and everything else is ready.*\n",
    "\n",
    "2. Can you improve it? Is there anything you would change about the model?\n",
    "\n",
    "> *We do not see anything particular that needs to be changed at this stage, though we are flixable and aware of the model's performance and if, by any chance, it needs any a change, it will be brought with significant caution and awareness so that the change does not break any other part of the model.*\n"
   ]
  },
  {
   "cell_type": "markdown",
   "metadata": {},
   "source": [
    "## Task 4. Modeling workflow\n",
    "\n",
    "At this stage, our data is ready to be splitted into training, validating, and testing sets. There are two steps to be taken:\n",
    "\n",
    "1. We are going to take the common 60/20/20 approach for splitting the data: \n",
    "- Training 60%\n",
    "- Validation 20%\n",
    "- Testing 20%\n",
    "\n",
    "\n",
    "2. We are going to fit the model and tune hyperparameters on the training sets to:\n",
    "- Avoiding overfitting or underfitting in the model\n",
    "- Having a robust model, less sensitive to small changes in the data\n",
    "- Hava a more interpretable and understandable model \n",
    "\n",
    "3. Perform cross-validation to: \n",
    "\n",
    "- Make sure we further reduce the risk of overfitting \n",
    "- Gain more confidence in models performance\n",
    "    \n",
    "\n",
    "4. Test the data to:\n",
    "\n",
    "- See how well it performs on unseen dataset\n",
    "- Simulate a real-world scenario\n",
    "- Get a sense of model's generalization error and how well \n",
    "    it performs on new data\n"
   ]
  },
  {
   "cell_type": "markdown",
   "metadata": {},
   "source": [
    "## Task 5. Splitting the data\n",
    "\n",
    "Now that we don't have any missing values in our dataset, it's time to isolate our `X` and `y` variables and specific columns for them. After isolating them, we check to make sure we have the right features for each of them.\n",
    "\n",
    "* We already extracted the necessary information from the `Date` column, so we are dropping it from our `X` variable since it does not contribute much to the model prediction.\n"
   ]
  },
  {
   "cell_type": "markdown",
   "metadata": {},
   "source": [
    "\n",
    "* We are dropping the `Price` from our `X` variable because it is what we are trying to predict (our `y` variable)."
   ]
  },
  {
   "cell_type": "code",
   "execution_count": 44,
   "metadata": {},
   "outputs": [
    {
     "data": {
      "text/html": [
       "<div>\n",
       "<style scoped>\n",
       "    .dataframe tbody tr th:only-of-type {\n",
       "        vertical-align: middle;\n",
       "    }\n",
       "\n",
       "    .dataframe tbody tr th {\n",
       "        vertical-align: top;\n",
       "    }\n",
       "\n",
       "    .dataframe thead th {\n",
       "        text-align: right;\n",
       "    }\n",
       "</style>\n",
       "<table border=\"1\" class=\"dataframe\">\n",
       "  <thead>\n",
       "    <tr style=\"text-align: right;\">\n",
       "      <th></th>\n",
       "      <th>Open</th>\n",
       "      <th>High</th>\n",
       "      <th>Low</th>\n",
       "      <th>Volume</th>\n",
       "      <th>year</th>\n",
       "      <th>month</th>\n",
       "      <th>day</th>\n",
       "      <th>quarter</th>\n",
       "      <th>daily_range</th>\n",
       "      <th>volume_change</th>\n",
       "      <th>price_increase</th>\n",
       "      <th>shortEMA</th>\n",
       "      <th>longEMA</th>\n",
       "      <th>MACD</th>\n",
       "      <th>signalLine</th>\n",
       "      <th>MACD_histogram</th>\n",
       "    </tr>\n",
       "  </thead>\n",
       "  <tbody>\n",
       "    <tr>\n",
       "      <th>0</th>\n",
       "      <td>309.10</td>\n",
       "      <td>309.90</td>\n",
       "      <td>307.59</td>\n",
       "      <td>16290000</td>\n",
       "      <td>2023</td>\n",
       "      <td>5</td>\n",
       "      <td>0</td>\n",
       "      <td>2</td>\n",
       "      <td>2.31</td>\n",
       "      <td>0.085302</td>\n",
       "      <td>0</td>\n",
       "      <td>309.460000</td>\n",
       "      <td>309.460000</td>\n",
       "      <td>0.000000</td>\n",
       "      <td>0.000000</td>\n",
       "      <td>0.000000</td>\n",
       "    </tr>\n",
       "    <tr>\n",
       "      <th>1</th>\n",
       "      <td>310.55</td>\n",
       "      <td>310.65</td>\n",
       "      <td>306.60</td>\n",
       "      <td>19770000</td>\n",
       "      <td>2023</td>\n",
       "      <td>5</td>\n",
       "      <td>4</td>\n",
       "      <td>2</td>\n",
       "      <td>4.05</td>\n",
       "      <td>0.213628</td>\n",
       "      <td>0</td>\n",
       "      <td>309.384615</td>\n",
       "      <td>309.423704</td>\n",
       "      <td>-0.039088</td>\n",
       "      <td>-0.007818</td>\n",
       "      <td>-0.031271</td>\n",
       "    </tr>\n",
       "    <tr>\n",
       "      <th>2</th>\n",
       "      <td>310.10</td>\n",
       "      <td>311.12</td>\n",
       "      <td>306.26</td>\n",
       "      <td>31680000</td>\n",
       "      <td>2023</td>\n",
       "      <td>5</td>\n",
       "      <td>3</td>\n",
       "      <td>2</td>\n",
       "      <td>4.86</td>\n",
       "      <td>0.602428</td>\n",
       "      <td>1</td>\n",
       "      <td>309.496213</td>\n",
       "      <td>309.474540</td>\n",
       "      <td>0.021673</td>\n",
       "      <td>-0.001920</td>\n",
       "      <td>0.023592</td>\n",
       "    </tr>\n",
       "    <tr>\n",
       "      <th>3</th>\n",
       "      <td>308.62</td>\n",
       "      <td>313.00</td>\n",
       "      <td>307.67</td>\n",
       "      <td>30080000</td>\n",
       "      <td>2023</td>\n",
       "      <td>5</td>\n",
       "      <td>2</td>\n",
       "      <td>2</td>\n",
       "      <td>5.33</td>\n",
       "      <td>-0.050505</td>\n",
       "      <td>1</td>\n",
       "      <td>309.929103</td>\n",
       "      <td>309.684575</td>\n",
       "      <td>0.244529</td>\n",
       "      <td>0.047370</td>\n",
       "      <td>0.197159</td>\n",
       "    </tr>\n",
       "    <tr>\n",
       "      <th>4</th>\n",
       "      <td>308.00</td>\n",
       "      <td>310.04</td>\n",
       "      <td>306.31</td>\n",
       "      <td>21340000</td>\n",
       "      <td>2023</td>\n",
       "      <td>5</td>\n",
       "      <td>1</td>\n",
       "      <td>2</td>\n",
       "      <td>3.73</td>\n",
       "      <td>-0.290559</td>\n",
       "      <td>0</td>\n",
       "      <td>309.478472</td>\n",
       "      <td>309.485717</td>\n",
       "      <td>-0.007245</td>\n",
       "      <td>0.036447</td>\n",
       "      <td>-0.043692</td>\n",
       "    </tr>\n",
       "  </tbody>\n",
       "</table>\n",
       "</div>"
      ],
      "text/plain": [
       "     Open    High     Low    Volume  year  month  day  quarter  daily_range  \\\n",
       "0  309.10  309.90  307.59  16290000  2023      5    0        2         2.31   \n",
       "1  310.55  310.65  306.60  19770000  2023      5    4        2         4.05   \n",
       "2  310.10  311.12  306.26  31680000  2023      5    3        2         4.86   \n",
       "3  308.62  313.00  307.67  30080000  2023      5    2        2         5.33   \n",
       "4  308.00  310.04  306.31  21340000  2023      5    1        2         3.73   \n",
       "\n",
       "   volume_change  price_increase    shortEMA     longEMA      MACD  \\\n",
       "0       0.085302               0  309.460000  309.460000  0.000000   \n",
       "1       0.213628               0  309.384615  309.423704 -0.039088   \n",
       "2       0.602428               1  309.496213  309.474540  0.021673   \n",
       "3      -0.050505               1  309.929103  309.684575  0.244529   \n",
       "4      -0.290559               0  309.478472  309.485717 -0.007245   \n",
       "\n",
       "   signalLine  MACD_histogram  \n",
       "0    0.000000        0.000000  \n",
       "1   -0.007818       -0.031271  \n",
       "2   -0.001920        0.023592  \n",
       "3    0.047370        0.197159  \n",
       "4    0.036447       -0.043692  "
      ]
     },
     "execution_count": 44,
     "metadata": {},
     "output_type": "execute_result"
    }
   ],
   "source": [
    "# Isolate X variable\n",
    "X = df.drop(columns = ['Price', 'Date'])\n",
    "X.head()"
   ]
  },
  {
   "cell_type": "markdown",
   "metadata": {},
   "source": [
    "* Assign the `Price` as our `y` variable"
   ]
  },
  {
   "cell_type": "code",
   "execution_count": 45,
   "metadata": {},
   "outputs": [
    {
     "data": {
      "text/plain": [
       "0    309.46\n",
       "1    308.97\n",
       "2    310.11\n",
       "3    312.31\n",
       "4    307.00\n",
       "Name: Price, dtype: float64"
      ]
     },
     "execution_count": 45,
     "metadata": {},
     "output_type": "execute_result"
    }
   ],
   "source": [
    "# Isolate the y variable\n",
    "y = df['Price']\n",
    "y.head()"
   ]
  },
  {
   "cell_type": "markdown",
   "metadata": {},
   "source": [
    "Now we split the data as planned on our **Construct** stage."
   ]
  },
  {
   "cell_type": "code",
   "execution_count": 46,
   "metadata": {},
   "outputs": [],
   "source": [
    "# Split the data into train and test sets\n",
    "X_tr, X_test, y_tr, y_test = train_test_split(X, y, \n",
    "                                              test_size=0.2, random_state=42)\n",
    "\n",
    "# Further split the train sets into training and validation sets\n",
    "X_train, X_val, y_train, y_val = train_test_split(X_tr, y_tr, \n",
    "                                                  test_size=0.25, random_state=42)"
   ]
  },
  {
   "cell_type": "markdown",
   "metadata": {},
   "source": [
    "After having the partitions, it's time to verify the number of samples in each partition."
   ]
  },
  {
   "cell_type": "code",
   "execution_count": 47,
   "metadata": {},
   "outputs": [
    {
     "name": "stdout",
     "output_type": "stream",
     "text": [
      "18738\n"
     ]
    }
   ],
   "source": [
    "# Total number of samples\n",
    "print(df.shape[0])"
   ]
  },
  {
   "cell_type": "code",
   "execution_count": 48,
   "metadata": {},
   "outputs": [
    {
     "name": "stdout",
     "output_type": "stream",
     "text": [
      "11242\n",
      "3748\n",
      "3748\n"
     ]
    }
   ],
   "source": [
    "# Verify the partitions\n",
    "for x in [X_train, X_val, X_test]:\n",
    "    print(len(x))"
   ]
  },
  {
   "cell_type": "markdown",
   "metadata": {},
   "source": [
    "Out of 74952 samples that we have, 60% of it is ~44971, and 20% of it is ~14990, so the number of samples in each partition perfectly aligns with our expectations."
   ]
  },
  {
   "cell_type": "markdown",
   "metadata": {},
   "source": [
    "## Task 6. Modeling\n",
    "\n",
    "**XGBoost**\n",
    "\n",
    "We begin with Grid Search Cross-Validation (`GridSeachCV`) to tune the XGBoost model.\n",
    "\n",
    "1. We instantiate the XGBoost regressor `xgb` and set the random state\n"
   ]
  },
  {
   "cell_type": "code",
   "execution_count": 49,
   "metadata": {},
   "outputs": [],
   "source": [
    "# Model instantiation\n",
    "xgb = XGBRegressor(random_state=42)"
   ]
  },
  {
   "cell_type": "markdown",
   "metadata": {},
   "source": [
    "\n",
    "2. Then, we create the dictionary `cv_params` of the following hyperparameters and their corresponding values to tune. \n",
    "\n",
    "* `max_depth`\n",
    "* `min_child_weight`\n",
    "* `learning_rate`\n",
    "* `n_estimators`\n",
    "    \n"
   ]
  },
  {
   "cell_type": "code",
   "execution_count": 50,
   "metadata": {},
   "outputs": [],
   "source": [
    "# The dictionary for hyperparameters\n",
    "cv_params = {'max_depth': [6, 12],\n",
    "             'min_child_weight': [3, 5],\n",
    "             'learning_rate': [0.01, 0.1],\n",
    "             'n_estimators': [300]\n",
    "             }"
   ]
  },
  {
   "cell_type": "markdown",
   "metadata": {},
   "source": [
    "3. Define a dictionary `scoring` of the following scoring metrics for GridSearch to capture:\n",
    "\n",
    "* `neg_mean_squared_error`\n",
    "* `r2`\n",
    "* `neg_mean_absolute_error`\n"
   ]
  },
  {
   "cell_type": "code",
   "execution_count": 51,
   "metadata": {},
   "outputs": [],
   "source": [
    "# Scoring dictionary\n",
    "scoring = {'neg_mean_squared_error', \n",
    "           'r2', \n",
    "           'neg_mean_absolute_error',\n",
    "            }"
   ]
  },
  {
   "cell_type": "markdown",
   "metadata": {},
   "source": [
    "\n",
    "4. Lastly, we instantiate the `GridSearchCV` object `xgb_cv` and pass to it the above arguements we made:\n",
    "\n",
    "* estimator=`xgb`\n",
    "* param_grid=`cv_params`\n",
    "* scoring=`scoring`\n",
    "* cv=`5` (number of cross validtion folds)\n",
    "* refit=`neg_mean_squared_error` (the metric we want to evaluate the performance of different hyperparamter combinations)\n",
    "\n",
    "*Note: We chose `neg_mean_squared_error` as the metric we want to evaluate the model performance because Mean Squared Error measures the squared difference between our predicted values and the actual values, or in other words, how far our prediction is from the true values. The reason we chose the **Negative** Mean Squared Error specifically is that when it's maximized, the actual mean squared error will be minimized, which aligns well with scikit-learn's scoring functions.*"
   ]
  },
  {
   "cell_type": "code",
   "execution_count": 52,
   "metadata": {},
   "outputs": [],
   "source": [
    "# GridSearch Instantiation\n",
    "xgb_cv = GridSearchCV(xgb, cv_params, scoring=scoring, cv=5, refit='neg_mean_squared_error')"
   ]
  },
  {
   "cell_type": "markdown",
   "metadata": {},
   "source": [
    "Now we fit the model to the training data.\n",
    "\n",
    "*Note: This cell will utilize a higher percentage of CPU. It is recommended that you monitor your CPU performance and make sure the performance doesn't result in excessive overheat of the computer since continuous high CPU usage and overheat results in bad perfomance, data loss, or system instability. You can monitor your CPU performance by opening `Task Manager` on Windows or  `Activity Monitor` on IOS.* "
   ]
  },
  {
   "cell_type": "code",
   "execution_count": 53,
   "metadata": {},
   "outputs": [
    {
     "name": "stdout",
     "output_type": "stream",
     "text": [
      "CPU times: total: 11min 48s\n",
      "Wall time: 1min 3s\n"
     ]
    },
    {
     "data": {
      "text/plain": [
       "GridSearchCV(cv=5,\n",
       "             estimator=XGBRegressor(base_score=None, booster=None,\n",
       "                                    callbacks=None, colsample_bylevel=None,\n",
       "                                    colsample_bynode=None,\n",
       "                                    colsample_bytree=None,\n",
       "                                    early_stopping_rounds=None,\n",
       "                                    enable_categorical=False, eval_metric=None,\n",
       "                                    feature_types=None, gamma=None, gpu_id=None,\n",
       "                                    grow_policy=None, importance_type=None,\n",
       "                                    interaction_constraints=None,\n",
       "                                    learning_rate=None, m...\n",
       "                                    min_child_weight=None, missing=nan,\n",
       "                                    monotone_constraints=None, n_estimators=100,\n",
       "                                    n_jobs=None, num_parallel_tree=None,\n",
       "                                    predictor=None, random_state=42, ...),\n",
       "             param_grid={'learning_rate': [0.01, 0.1], 'max_depth': [6, 12],\n",
       "                         'min_child_weight': [3, 5], 'n_estimators': [300]},\n",
       "             refit='neg_mean_squared_error',\n",
       "             scoring={'neg_mean_absolute_error', 'neg_mean_squared_error',\n",
       "                      'r2'})"
      ]
     },
     "execution_count": 53,
     "metadata": {},
     "output_type": "execute_result"
    }
   ],
   "source": [
    "%%time\n",
    "# Fit the model to the training data\n",
    "xgb_cv.fit(X_train, y_train)"
   ]
  },
  {
   "cell_type": "markdown",
   "metadata": {},
   "source": [
    "Now that we fitted the model, it is time to get its components. First, let's check the best score."
   ]
  },
  {
   "cell_type": "code",
   "execution_count": 54,
   "metadata": {},
   "outputs": [
    {
     "data": {
      "text/plain": [
       "-0.4088841633537574"
      ]
     },
     "execution_count": 54,
     "metadata": {},
     "output_type": "execute_result"
    }
   ],
   "source": [
    "# Print the best score\n",
    "xgb_cv.best_score_"
   ]
  },
  {
   "cell_type": "markdown",
   "metadata": {},
   "source": [
    "And the best parameters."
   ]
  },
  {
   "cell_type": "code",
   "execution_count": 55,
   "metadata": {},
   "outputs": [
    {
     "data": {
      "text/plain": [
       "{'learning_rate': 0.1,\n",
       " 'max_depth': 12,\n",
       " 'min_child_weight': 5,\n",
       " 'n_estimators': 300}"
      ]
     },
     "execution_count": 55,
     "metadata": {},
     "output_type": "execute_result"
    }
   ],
   "source": [
    "# Print the best parameteres\n",
    "xgb_cv.best_params_"
   ]
  },
  {
   "cell_type": "markdown",
   "metadata": {},
   "source": [
    "## Task 7. Getting the Scores\n",
    "\n",
    "Visualizing the scores is an important step in our model development. With a clear understanding of the model's scores, we can have an idea of how well it's performing, and whether it needs modifications or not. "
   ]
  },
  {
   "cell_type": "markdown",
   "metadata": {},
   "source": [
    "For a clear visualization of the scores, we are going to make the `make_results()` function. This function accepts three arguments and outputs all of the scores of our model. "
   ]
  },
  {
   "cell_type": "code",
   "execution_count": 56,
   "metadata": {},
   "outputs": [],
   "source": [
    "def make_results(model_name:str, model_object, metric:str):\n",
    "    '''\n",
    "    Arguments:\n",
    "        model_name (string): what you want the model to be called in the output table\n",
    "        model_object: a fit GridSearchCV object\n",
    "        metric (string): 'neg_mean_squared_error', 'r2', or 'neg_mean_absolute_error'\n",
    "\n",
    "        Returns a pandas df with the 'neg_mean_squared_error','r2', and 'neg_mean_absolute_error'\n",
    "        for the model with the best mean 'metric' score across all validation folds\n",
    "    '''\n",
    "\n",
    "    # Create dictionary that maps inputs metric to actual metric name in GridSearchCV\n",
    "    metric_dict = {'mse': 'mean_test_neg_mean_squared_error',  # Use 'mean_test_' prefix for GridSearchCV's metrics\n",
    "                   'r2': 'mean_test_r2',\n",
    "                   'mae': 'mean_test_neg_mean_absolute_error'\n",
    "                    }\n",
    "    \n",
    "    # Get all the results from the CV and put them in a df\n",
    "    cv_results = pd.DataFrame(model_object.cv_results_)\n",
    "\n",
    "    # Isolate the row of the df with the max(metric) score\n",
    "    best_estimator_results = cv_results.iloc[cv_results[metric_dict[metric]].idxmax(), :]\n",
    "\n",
    "    # Extract MSE, R2, MAE from that row\n",
    "    mse = best_estimator_results.mean_test_neg_mean_squared_error\n",
    "    r2 = best_estimator_results.mean_test_r2\n",
    "    mae = best_estimator_results.mean_test_neg_mean_absolute_error\n",
    "\n",
    "    # Create a table of results\n",
    "    table = pd.DataFrame({'model' : [model_name],\n",
    "                          'MSE' : [mse],\n",
    "                          'R2' : [r2],\n",
    "                          'MAE' : [mae]\n",
    "                          })\n",
    "    \n",
    "    return table\n",
    "    "
   ]
  },
  {
   "cell_type": "markdown",
   "metadata": {},
   "source": [
    "Now that the function is ready to make a table out of our scores, we will pass the `GridSearch` object to the `make_results()` function"
   ]
  },
  {
   "cell_type": "code",
   "execution_count": 57,
   "metadata": {},
   "outputs": [
    {
     "data": {
      "text/html": [
       "<div>\n",
       "<style scoped>\n",
       "    .dataframe tbody tr th:only-of-type {\n",
       "        vertical-align: middle;\n",
       "    }\n",
       "\n",
       "    .dataframe tbody tr th {\n",
       "        vertical-align: top;\n",
       "    }\n",
       "\n",
       "    .dataframe thead th {\n",
       "        text-align: right;\n",
       "    }\n",
       "</style>\n",
       "<table border=\"1\" class=\"dataframe\">\n",
       "  <thead>\n",
       "    <tr style=\"text-align: right;\">\n",
       "      <th></th>\n",
       "      <th>model</th>\n",
       "      <th>MSE</th>\n",
       "      <th>R2</th>\n",
       "      <th>MAE</th>\n",
       "    </tr>\n",
       "  </thead>\n",
       "  <tbody>\n",
       "    <tr>\n",
       "      <th>0</th>\n",
       "      <td>XGB CV</td>\n",
       "      <td>-0.408884</td>\n",
       "      <td>0.999917</td>\n",
       "      <td>-0.190525</td>\n",
       "    </tr>\n",
       "  </tbody>\n",
       "</table>\n",
       "</div>"
      ],
      "text/plain": [
       "    model       MSE        R2       MAE\n",
       "0  XGB CV -0.408884  0.999917 -0.190525"
      ]
     },
     "execution_count": 57,
     "metadata": {},
     "output_type": "execute_result"
    }
   ],
   "source": [
    "# Make the results table with our model scores\n",
    "xgb_cv_results = make_results('XGB CV', xgb_cv, 'mse')\n",
    "xgb_cv_results"
   ]
  },
  {
   "cell_type": "markdown",
   "metadata": {},
   "source": [
    "Above, we can see a table of the scores. Now it's time to define the function `get_test_scores` to generate a table of scores from the **prediction** and **validation** scores."
   ]
  },
  {
   "cell_type": "code",
   "execution_count": 58,
   "metadata": {},
   "outputs": [],
   "source": [
    "def get_test_scores(model_name:str, preds, y_test_data):\n",
    "    '''\n",
    "    Generate a table of test scores\n",
    "\n",
    "    In:\n",
    "        model_name (string): how the model will be named in the output table\n",
    "        preds: numpy array of test predictions\n",
    "        y_test_data: numpy array of y_test data\n",
    "\n",
    "    Out:\n",
    "        table: a pandas df of MAE, MSE, and R2 scores for the model\n",
    "    '''\n",
    "    mse = mean_squared_error(y_test_data, preds)\n",
    "    mae = mean_absolute_error(y_test_data, preds)\n",
    "    r2score = r2_score(y_test_data, preds)\n",
    "\n",
    "    table = pd.DataFrame({'model' : [model_name],\n",
    "                          'MSE':[mse],\n",
    "                          'MAE':[mae],\n",
    "                          'R2':[r2score]\n",
    "                          })\n",
    "    \n",
    "    return table\n",
    "    "
   ]
  },
  {
   "cell_type": "markdown",
   "metadata": {},
   "source": [
    "Now, we take the model's scores on the validation data and add it to our results table."
   ]
  },
  {
   "cell_type": "code",
   "execution_count": 59,
   "metadata": {},
   "outputs": [
    {
     "data": {
      "text/html": [
       "<div>\n",
       "<style scoped>\n",
       "    .dataframe tbody tr th:only-of-type {\n",
       "        vertical-align: middle;\n",
       "    }\n",
       "\n",
       "    .dataframe tbody tr th {\n",
       "        vertical-align: top;\n",
       "    }\n",
       "\n",
       "    .dataframe thead th {\n",
       "        text-align: right;\n",
       "    }\n",
       "</style>\n",
       "<table border=\"1\" class=\"dataframe\">\n",
       "  <thead>\n",
       "    <tr style=\"text-align: right;\">\n",
       "      <th></th>\n",
       "      <th>model</th>\n",
       "      <th>MSE</th>\n",
       "      <th>R2</th>\n",
       "      <th>MAE</th>\n",
       "    </tr>\n",
       "  </thead>\n",
       "  <tbody>\n",
       "    <tr>\n",
       "      <th>0</th>\n",
       "      <td>XGB CV</td>\n",
       "      <td>-0.408884</td>\n",
       "      <td>0.999917</td>\n",
       "      <td>-0.190525</td>\n",
       "    </tr>\n",
       "    <tr>\n",
       "      <th>0</th>\n",
       "      <td>XGB Val</td>\n",
       "      <td>0.271265</td>\n",
       "      <td>0.999943</td>\n",
       "      <td>0.143244</td>\n",
       "    </tr>\n",
       "  </tbody>\n",
       "</table>\n",
       "</div>"
      ],
      "text/plain": [
       "     model       MSE        R2       MAE\n",
       "0   XGB CV -0.408884  0.999917 -0.190525\n",
       "0  XGB Val  0.271265  0.999943  0.143244"
      ]
     },
     "execution_count": 59,
     "metadata": {},
     "output_type": "execute_result"
    }
   ],
   "source": [
    "# Use XGBoost model to predit on validation data\n",
    "xgb_val_preds = xgb_cv.best_estimator_.predict(X_val)\n",
    "\n",
    "# Get the validation test scores for XGBoost model\n",
    "xgb_val_scores = get_test_scores('XGB Val', xgb_val_preds, y_val)\n",
    "\n",
    "# Concatenate the model scores and the validation scores tables\n",
    "results = pd.concat([xgb_cv_results, xgb_val_scores], axis=0)\n",
    "results"
   ]
  },
  {
   "cell_type": "markdown",
   "metadata": {},
   "source": [
    "Above, we have a table that has both scores of our model and the scores on the validation data. So far, we have an idea of the model's performance, which, based on the values of the MSE, R2, and MAE, it is performing pretty well.\n"
   ]
  },
  {
   "cell_type": "markdown",
   "metadata": {},
   "source": [
    "## **PACE: Execute**\n",
    "\n",
    "1. Does my model make sense? Are my final results acceptable?\n",
    "\n",
    "> *The model makes sense based on the utilization of the features and the scores on the validation and test data. Besides, the model is explainable and understandable, which adds to our confidence that the results and acceptable.*\n",
    "\n",
    "2. Do we think our model could be improved? Why or why not? How?\n",
    "\n",
    "> *Taking in a broader sense, if we develop a stacking that includes XGBoost, Random Forest, and Support Vector Regression (base learners) and train them, and then use the base learners' predictions to train a meta-model to combine the predictions of the base learners and make a final prediction, there is a possiblity of improvement since we will have the prediction of three powerful models. However, the imporvement cannot be guaranteed in advance as we will need to analyze the performance of the models and see whether the predictions are accurate and reliable or not.*   \n",
    "\n",
    "3. Finally, what business/organizational recommendations can we propose based on the models built?\n",
    "\n",
    "> *We recommend an investment on a software engieering and machine learning developing team for a comprehensive research on the application techniques that will significantly accelerate the models execution, which can provide the responses not only accurately but in exceptionally low computational intensity.*"
   ]
  },
  {
   "cell_type": "markdown",
   "metadata": {},
   "source": [
    "\n",
    "As a final step, we are going to use the model to predict on the test data. This steps shows how the model will perform on completely new, unseen data. "
   ]
  },
  {
   "cell_type": "code",
   "execution_count": 60,
   "metadata": {},
   "outputs": [
    {
     "data": {
      "text/html": [
       "<div>\n",
       "<style scoped>\n",
       "    .dataframe tbody tr th:only-of-type {\n",
       "        vertical-align: middle;\n",
       "    }\n",
       "\n",
       "    .dataframe tbody tr th {\n",
       "        vertical-align: top;\n",
       "    }\n",
       "\n",
       "    .dataframe thead th {\n",
       "        text-align: right;\n",
       "    }\n",
       "</style>\n",
       "<table border=\"1\" class=\"dataframe\">\n",
       "  <thead>\n",
       "    <tr style=\"text-align: right;\">\n",
       "      <th></th>\n",
       "      <th>model</th>\n",
       "      <th>MSE</th>\n",
       "      <th>R2</th>\n",
       "      <th>MAE</th>\n",
       "    </tr>\n",
       "  </thead>\n",
       "  <tbody>\n",
       "    <tr>\n",
       "      <th>0</th>\n",
       "      <td>XGB CV</td>\n",
       "      <td>-0.408884</td>\n",
       "      <td>0.999917</td>\n",
       "      <td>-0.190525</td>\n",
       "    </tr>\n",
       "    <tr>\n",
       "      <th>0</th>\n",
       "      <td>XGB Val</td>\n",
       "      <td>0.271265</td>\n",
       "      <td>0.999943</td>\n",
       "      <td>0.143244</td>\n",
       "    </tr>\n",
       "    <tr>\n",
       "      <th>0</th>\n",
       "      <td>XGB Test</td>\n",
       "      <td>0.217163</td>\n",
       "      <td>0.999956</td>\n",
       "      <td>0.137317</td>\n",
       "    </tr>\n",
       "  </tbody>\n",
       "</table>\n",
       "</div>"
      ],
      "text/plain": [
       "      model       MSE        R2       MAE\n",
       "0    XGB CV -0.408884  0.999917 -0.190525\n",
       "0   XGB Val  0.271265  0.999943  0.143244\n",
       "0  XGB Test  0.217163  0.999956  0.137317"
      ]
     },
     "execution_count": 60,
     "metadata": {},
     "output_type": "execute_result"
    }
   ],
   "source": [
    "# Use our XGBoost model to predict on test data\n",
    "xgb_test_preds = xgb_cv.best_estimator_.predict(X_test)\n",
    "\n",
    "# Get test scores for our XGBoost model\n",
    "xgb_test_scores = get_test_scores('XGB Test', xgb_test_preds, y_test)\n",
    "\n",
    "# Append to the results table\n",
    "results = pd.concat([results, xgb_test_scores], axis=0)\n",
    "results"
   ]
  },
  {
   "cell_type": "markdown",
   "metadata": {},
   "source": [
    "The model performs exceptionally well; the `r2` score is very close to 1, and the MSE and MAE values are decently low. "
   ]
  },
  {
   "cell_type": "markdown",
   "metadata": {},
   "source": [
    "## Task 8. Feature Importance\n",
    "\n",
    "As the last task of the development of this model, we are going to inspect the most important features of our model. We do so with visualizing the the feature importance based on `weight` and `gain` metrics. \n",
    "\n",
    "`weight` tells us how many times a feature appeared in the trees of the model, which means features with higher weights are used more in the training of the model. Note that `weight` does not take into account how much a feature contributed in reducing the model's loss.\n",
    "\n",
    "`gain`, on the other hand, tells us how much a feature contributed in reducing the model's loss. Features with higher gains are more informative and lead to larger reductions in the model's loss during the training. "
   ]
  },
  {
   "cell_type": "markdown",
   "metadata": {},
   "source": [
    "In order to get the `weight` and `gain` scores, we first have to get the booster `get_booster()` of our model's `best_estimator`"
   ]
  },
  {
   "cell_type": "code",
   "execution_count": 61,
   "metadata": {},
   "outputs": [],
   "source": [
    "# Get the booster of the model's best estimator\n",
    "booster = xgb_cv.best_estimator_.get_booster()"
   ]
  },
  {
   "cell_type": "markdown",
   "metadata": {},
   "source": [
    "Now that we have the booster, we proceed to displaying the `weight` plot."
   ]
  },
  {
   "cell_type": "code",
   "execution_count": 65,
   "metadata": {},
   "outputs": [
    {
     "data": {
      "image/png": "[encoded data removed]",
      "text/plain": [
       "<Figure size 432x288 with 1 Axes>"
      ]
     },
     "metadata": {
      "needs_background": "light"
     },
     "output_type": "display_data"
    }
   ],
   "source": [
    "# Get feature importances based on 'weight'\n",
    "importances_weight = booster.get_score(importance_type='weight')\n",
    "\n",
    "# Convert the importance dictionary to a pandas Series\n",
    "xgb_importances_weight = pd.Series(importances_weight)\n",
    "\n",
    "# Sort the values of the series in decending order\n",
    "xgb_importances_weight = xgb_importances_weight.sort_values(ascending=False)\n",
    "\n",
    "# Create the figure and the axis\n",
    "fig_weight, ax_weight = plt.subplots()\n",
    "\n",
    "# Create a bar plot and set the axis as `ax_weight`\n",
    "xgb_importances_weight.plot.bar(ax=ax_weight)\n",
    "\n",
    "# Set the title for the plot\n",
    "ax_weight.set_title('Feature Importances (Weight)')\n",
    "\n",
    "# Adjust the spacing between the plot elements\n",
    "fig_weight.tight_layout()"
   ]
  },
  {
   "cell_type": "markdown",
   "metadata": {},
   "source": [
    "And the `gain` plot."
   ]
  },
  {
   "cell_type": "code",
   "execution_count": 66,
   "metadata": {},
   "outputs": [
    {
     "data": {
      "image/png": "[encoded data removed]",
      "text/plain": [
       "<Figure size 432x288 with 1 Axes>"
      ]
     },
     "metadata": {
      "needs_background": "light"
     },
     "output_type": "display_data"
    }
   ],
   "source": [
    "# Get feature importances based on 'gain'\n",
    "importances_gain = booster.get_score(importance_type='gain')\n",
    "\n",
    "# Convert the importance dictionary to a pandas Series\n",
    "xgb_importances_gain = pd.Series(importances_gain)\n",
    "\n",
    "# Sort the Series by importance\n",
    "xgb_importances_gain = xgb_importances_gain.sort_values(ascending=False)\n",
    "\n",
    "# Create the figure and the axis\n",
    "fig_gain, ax_gain = plt.subplots()\n",
    "\n",
    "# Create a bar plot and set the axis as `ax_gain`\n",
    "xgb_importances_gain.plot.bar(ax=ax_gain)\n",
    "\n",
    "# Set the title for the plot\n",
    "ax_gain.set_title('Feature Importances (Gain)')\n",
    "\n",
    "# Adjust the spacing between the plot elements\n",
    "fig_gain.tight_layout()"
   ]
  },
  {
   "cell_type": "markdown",
   "metadata": {},
   "source": [
    "In the `weight` plot, we can see that, alongside the features we originally had -- High, Low, Open, Volume, and date-related features --, the engineered features are also used significantly, which shows the importance of feature engineering.\n",
    "\n",
    "In the `gain` plot, we see that our engineered `shortEMA` feature also contributed in reducing the model's loss, and that is definitely valuable in improving the model's performance. "
   ]
  },
  {
   "cell_type": "markdown",
   "metadata": {},
   "source": [
    "## Task 9. Conclusion"
   ]
  },
  {
   "cell_type": "markdown",
   "metadata": {},
   "source": [
    "Now that we are done with the development of this model, it is time to include our findings. In a few questions, we will include some key points about the Microsoft Stocks Project. "
   ]
  },
  {
   "cell_type": "markdown",
   "metadata": {},
   "source": [
    "**Questions:**\n",
    "\n",
    "1. Would we recommend this model for Microsoft stock price prediction? Why or why not?\n",
    "\n",
    "> *The model had a impressive performance, and has been carefully analyzed and trained. Still, there is till room for improvement, as there can be more powerful models built for this purpose. However, this model has shown very good scores for both validation and test data. That gives us the confidence of saying that this model can have value for the client if used specifically for predicting Microsoft stock prices, which lets us say that we do recommend this model for Microsoft stock price prediction.*\n",
    "\n",
    "2. What is the benefit of using an ensemble of tree-based models like XGBoost over linear regression model for regression tasks?\n",
    "\n",
    "> *Tree-based ensembles are generally better performing and give better predictions. If we are prioritizing the predictive accuracy of the model and making sure it is close to the actual target values, then tree-based modeling definitely outperforms the linear regression, but it might not **always** be the case.*\n",
    "*Also, tree-based modeling does not require significant data cleaning and require much fewer assumptions about the distribution of their target variables. This makes tree-based modeling more convenient to work with.* \n",
    "\n",
    "3. What could you do to improve this model?\n",
    "\n",
    "> *Further feature engieering for generating better predictive signals and using more advanced technical indicators such as Relative Strength Index (RSI) or Bollinger Band can be helpful in improving this model. Also, reconstructing the model with different combinations of hyperparameters can also end up effective to our model performance.*"
   ]
  }
 ],
 "metadata": {
  "kernelspec": {
   "display_name": "base",
   "language": "python",
   "name": "python3"
  },
  "language_info": {
   "codemirror_mode": {
    "name": "ipython",
    "version": 3
   },
   "file_extension": ".py",
   "mimetype": "text/x-python",
   "name": "python",
   "nbconvert_exporter": "python",
   "pygments_lexer": "ipython3",
   "version": "3.9.12"
  },
  "orig_nbformat": 4
 },
 "nbformat": 4,
 "nbformat_minor": 2
}
